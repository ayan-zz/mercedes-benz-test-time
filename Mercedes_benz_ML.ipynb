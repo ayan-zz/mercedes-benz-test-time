{
 "cells": [
  {
   "cell_type": "markdown",
   "metadata": {},
   "source": [
    "# PROJECT 1: Mercedes-Benz Greener Manufacturing"
   ]
  },
  {
   "cell_type": "markdown",
   "metadata": {},
   "source": [
    "#### DESCRIPTION\n",
    "\n",
    "Reduce the time a Mercedes-Benz spends on the test bench.\n",
    "\n",
    "Problem Statement Scenario:\n",
    "Since the first automobile, the Benz Patent Motor Car in 1886, Mercedes-Benz has stood for important automotive innovations. These include the passenger safety cell with a crumple zone, the airbag, and intelligent assistance systems. Mercedes-Benz applies for nearly 2000 patents per year, making the brand the European leader among premium carmakers. Mercedes-Benz is the leader in the premium car industry. With a huge selection of features and options, customers can choose the customized Mercedes-Benz of their dreams.\n",
    "\n",
    "To ensure the safety and reliability of every unique car configuration before they hit the road, the company’s engineers have developed a robust testing system. As one of the world’s biggest manufacturers of premium cars, safety and efficiency are paramount on Mercedes-Benz’s production lines. However, optimizing the speed of their testing system for many possible feature combinations is complex and time-consuming without a powerful algorithmic approach.\n",
    "\n",
    "You are required to reduce the time that cars spend on the test bench. Others will work with a dataset representing different permutations of features in a Mercedes-Benz car to predict the time it takes to pass testing. Optimal algorithms will contribute to faster testing, resulting in lower carbon dioxide emissions without reducing Mercedes-Benz’s standards.\n",
    "\n",
    "Following actions should be performed:\n",
    "1. If for any column(s), the variance is equal to zero, then you need to remove those variable(s).\n",
    "2. Check for null and unique values for test and train sets.\n",
    "3. Apply label encoder.\n",
    "4. Perform dimensionality reduction.\n",
    "5. Predict your test_df values using XGBoost."
   ]
  },
  {
   "cell_type": "markdown",
   "metadata": {},
   "source": [
    "### Importing important libraries and classes"
   ]
  },
  {
   "cell_type": "code",
   "execution_count": 220,
   "metadata": {},
   "outputs": [],
   "source": [
    "import pandas as pd\n",
    "import numpy as np\n",
    "from numpy import sqrt\n",
    "import seaborn as sns\n",
    "from scipy import stats\n",
    "from scipy.stats import norm\n",
    "%matplotlib inline\n",
    "import matplotlib.pyplot as plt\n",
    "import xgboost as xgb\n",
    "from sklearn import model_selection, preprocessing\n",
    "from sklearn import metrics\n",
    "from sklearn.metrics import mean_squared_error\n",
    "from sklearn.metrics import accuracy_score\n",
    "from sklearn.preprocessing import LabelEncoder,StandardScaler\n",
    "from sklearn.decomposition import PCA\n",
    "from sklearn.model_selection import train_test_split"
   ]
  },
  {
   "cell_type": "markdown",
   "metadata": {},
   "source": [
    "#### Importing the dataset and executing the same"
   ]
  },
  {
   "cell_type": "code",
   "execution_count": 239,
   "metadata": {},
   "outputs": [
    {
     "data": {
      "text/plain": [
       "(4209, 378)"
      ]
     },
     "execution_count": 239,
     "metadata": {},
     "output_type": "execute_result"
    }
   ],
   "source": [
    "df_train1=pd.read_csv(\"train_MB.csv\")\n",
    "df_test1=pd.read_csv(\"test_MB.csv\")\n",
    "df_train1.shape"
   ]
  },
  {
   "cell_type": "code",
   "execution_count": 240,
   "metadata": {},
   "outputs": [
    {
     "data": {
      "text/html": [
       "<div>\n",
       "<style scoped>\n",
       "    .dataframe tbody tr th:only-of-type {\n",
       "        vertical-align: middle;\n",
       "    }\n",
       "\n",
       "    .dataframe tbody tr th {\n",
       "        vertical-align: top;\n",
       "    }\n",
       "\n",
       "    .dataframe thead th {\n",
       "        text-align: right;\n",
       "    }\n",
       "</style>\n",
       "<table border=\"1\" class=\"dataframe\">\n",
       "  <thead>\n",
       "    <tr style=\"text-align: right;\">\n",
       "      <th></th>\n",
       "      <th>ID</th>\n",
       "      <th>y</th>\n",
       "      <th>X0</th>\n",
       "      <th>X1</th>\n",
       "      <th>X2</th>\n",
       "      <th>X3</th>\n",
       "      <th>X4</th>\n",
       "      <th>X5</th>\n",
       "      <th>X6</th>\n",
       "      <th>X8</th>\n",
       "      <th>...</th>\n",
       "      <th>X375</th>\n",
       "      <th>X376</th>\n",
       "      <th>X377</th>\n",
       "      <th>X378</th>\n",
       "      <th>X379</th>\n",
       "      <th>X380</th>\n",
       "      <th>X382</th>\n",
       "      <th>X383</th>\n",
       "      <th>X384</th>\n",
       "      <th>X385</th>\n",
       "    </tr>\n",
       "  </thead>\n",
       "  <tbody>\n",
       "    <tr>\n",
       "      <td>0</td>\n",
       "      <td>0</td>\n",
       "      <td>130.81</td>\n",
       "      <td>k</td>\n",
       "      <td>v</td>\n",
       "      <td>at</td>\n",
       "      <td>a</td>\n",
       "      <td>d</td>\n",
       "      <td>u</td>\n",
       "      <td>j</td>\n",
       "      <td>o</td>\n",
       "      <td>...</td>\n",
       "      <td>0</td>\n",
       "      <td>0</td>\n",
       "      <td>1</td>\n",
       "      <td>0</td>\n",
       "      <td>0</td>\n",
       "      <td>0</td>\n",
       "      <td>0</td>\n",
       "      <td>0</td>\n",
       "      <td>0</td>\n",
       "      <td>0</td>\n",
       "    </tr>\n",
       "    <tr>\n",
       "      <td>1</td>\n",
       "      <td>6</td>\n",
       "      <td>88.53</td>\n",
       "      <td>k</td>\n",
       "      <td>t</td>\n",
       "      <td>av</td>\n",
       "      <td>e</td>\n",
       "      <td>d</td>\n",
       "      <td>y</td>\n",
       "      <td>l</td>\n",
       "      <td>o</td>\n",
       "      <td>...</td>\n",
       "      <td>1</td>\n",
       "      <td>0</td>\n",
       "      <td>0</td>\n",
       "      <td>0</td>\n",
       "      <td>0</td>\n",
       "      <td>0</td>\n",
       "      <td>0</td>\n",
       "      <td>0</td>\n",
       "      <td>0</td>\n",
       "      <td>0</td>\n",
       "    </tr>\n",
       "    <tr>\n",
       "      <td>2</td>\n",
       "      <td>7</td>\n",
       "      <td>76.26</td>\n",
       "      <td>az</td>\n",
       "      <td>w</td>\n",
       "      <td>n</td>\n",
       "      <td>c</td>\n",
       "      <td>d</td>\n",
       "      <td>x</td>\n",
       "      <td>j</td>\n",
       "      <td>x</td>\n",
       "      <td>...</td>\n",
       "      <td>0</td>\n",
       "      <td>0</td>\n",
       "      <td>0</td>\n",
       "      <td>0</td>\n",
       "      <td>0</td>\n",
       "      <td>0</td>\n",
       "      <td>1</td>\n",
       "      <td>0</td>\n",
       "      <td>0</td>\n",
       "      <td>0</td>\n",
       "    </tr>\n",
       "    <tr>\n",
       "      <td>3</td>\n",
       "      <td>9</td>\n",
       "      <td>80.62</td>\n",
       "      <td>az</td>\n",
       "      <td>t</td>\n",
       "      <td>n</td>\n",
       "      <td>f</td>\n",
       "      <td>d</td>\n",
       "      <td>x</td>\n",
       "      <td>l</td>\n",
       "      <td>e</td>\n",
       "      <td>...</td>\n",
       "      <td>0</td>\n",
       "      <td>0</td>\n",
       "      <td>0</td>\n",
       "      <td>0</td>\n",
       "      <td>0</td>\n",
       "      <td>0</td>\n",
       "      <td>0</td>\n",
       "      <td>0</td>\n",
       "      <td>0</td>\n",
       "      <td>0</td>\n",
       "    </tr>\n",
       "    <tr>\n",
       "      <td>4</td>\n",
       "      <td>13</td>\n",
       "      <td>78.02</td>\n",
       "      <td>az</td>\n",
       "      <td>v</td>\n",
       "      <td>n</td>\n",
       "      <td>f</td>\n",
       "      <td>d</td>\n",
       "      <td>h</td>\n",
       "      <td>d</td>\n",
       "      <td>n</td>\n",
       "      <td>...</td>\n",
       "      <td>0</td>\n",
       "      <td>0</td>\n",
       "      <td>0</td>\n",
       "      <td>0</td>\n",
       "      <td>0</td>\n",
       "      <td>0</td>\n",
       "      <td>0</td>\n",
       "      <td>0</td>\n",
       "      <td>0</td>\n",
       "      <td>0</td>\n",
       "    </tr>\n",
       "  </tbody>\n",
       "</table>\n",
       "<p>5 rows × 378 columns</p>\n",
       "</div>"
      ],
      "text/plain": [
       "   ID       y  X0 X1  X2 X3 X4 X5 X6 X8  ...  X375  X376  X377  X378  X379  \\\n",
       "0   0  130.81   k  v  at  a  d  u  j  o  ...     0     0     1     0     0   \n",
       "1   6   88.53   k  t  av  e  d  y  l  o  ...     1     0     0     0     0   \n",
       "2   7   76.26  az  w   n  c  d  x  j  x  ...     0     0     0     0     0   \n",
       "3   9   80.62  az  t   n  f  d  x  l  e  ...     0     0     0     0     0   \n",
       "4  13   78.02  az  v   n  f  d  h  d  n  ...     0     0     0     0     0   \n",
       "\n",
       "   X380  X382  X383  X384  X385  \n",
       "0     0     0     0     0     0  \n",
       "1     0     0     0     0     0  \n",
       "2     0     1     0     0     0  \n",
       "3     0     0     0     0     0  \n",
       "4     0     0     0     0     0  \n",
       "\n",
       "[5 rows x 378 columns]"
      ]
     },
     "execution_count": 240,
     "metadata": {},
     "output_type": "execute_result"
    }
   ],
   "source": [
    "df_train1.head()"
   ]
  },
  {
   "cell_type": "code",
   "execution_count": 241,
   "metadata": {
    "scrolled": true
   },
   "outputs": [
    {
     "data": {
      "text/html": [
       "<div>\n",
       "<style scoped>\n",
       "    .dataframe tbody tr th:only-of-type {\n",
       "        vertical-align: middle;\n",
       "    }\n",
       "\n",
       "    .dataframe tbody tr th {\n",
       "        vertical-align: top;\n",
       "    }\n",
       "\n",
       "    .dataframe thead th {\n",
       "        text-align: right;\n",
       "    }\n",
       "</style>\n",
       "<table border=\"1\" class=\"dataframe\">\n",
       "  <thead>\n",
       "    <tr style=\"text-align: right;\">\n",
       "      <th></th>\n",
       "      <th>ID</th>\n",
       "      <th>X0</th>\n",
       "      <th>X1</th>\n",
       "      <th>X2</th>\n",
       "      <th>X3</th>\n",
       "      <th>X4</th>\n",
       "      <th>X5</th>\n",
       "      <th>X6</th>\n",
       "      <th>X8</th>\n",
       "      <th>X10</th>\n",
       "      <th>...</th>\n",
       "      <th>X375</th>\n",
       "      <th>X376</th>\n",
       "      <th>X377</th>\n",
       "      <th>X378</th>\n",
       "      <th>X379</th>\n",
       "      <th>X380</th>\n",
       "      <th>X382</th>\n",
       "      <th>X383</th>\n",
       "      <th>X384</th>\n",
       "      <th>X385</th>\n",
       "    </tr>\n",
       "  </thead>\n",
       "  <tbody>\n",
       "    <tr>\n",
       "      <td>0</td>\n",
       "      <td>1</td>\n",
       "      <td>az</td>\n",
       "      <td>v</td>\n",
       "      <td>n</td>\n",
       "      <td>f</td>\n",
       "      <td>d</td>\n",
       "      <td>t</td>\n",
       "      <td>a</td>\n",
       "      <td>w</td>\n",
       "      <td>0</td>\n",
       "      <td>...</td>\n",
       "      <td>0</td>\n",
       "      <td>0</td>\n",
       "      <td>0</td>\n",
       "      <td>1</td>\n",
       "      <td>0</td>\n",
       "      <td>0</td>\n",
       "      <td>0</td>\n",
       "      <td>0</td>\n",
       "      <td>0</td>\n",
       "      <td>0</td>\n",
       "    </tr>\n",
       "    <tr>\n",
       "      <td>1</td>\n",
       "      <td>2</td>\n",
       "      <td>t</td>\n",
       "      <td>b</td>\n",
       "      <td>ai</td>\n",
       "      <td>a</td>\n",
       "      <td>d</td>\n",
       "      <td>b</td>\n",
       "      <td>g</td>\n",
       "      <td>y</td>\n",
       "      <td>0</td>\n",
       "      <td>...</td>\n",
       "      <td>0</td>\n",
       "      <td>0</td>\n",
       "      <td>1</td>\n",
       "      <td>0</td>\n",
       "      <td>0</td>\n",
       "      <td>0</td>\n",
       "      <td>0</td>\n",
       "      <td>0</td>\n",
       "      <td>0</td>\n",
       "      <td>0</td>\n",
       "    </tr>\n",
       "    <tr>\n",
       "      <td>2</td>\n",
       "      <td>3</td>\n",
       "      <td>az</td>\n",
       "      <td>v</td>\n",
       "      <td>as</td>\n",
       "      <td>f</td>\n",
       "      <td>d</td>\n",
       "      <td>a</td>\n",
       "      <td>j</td>\n",
       "      <td>j</td>\n",
       "      <td>0</td>\n",
       "      <td>...</td>\n",
       "      <td>0</td>\n",
       "      <td>0</td>\n",
       "      <td>0</td>\n",
       "      <td>1</td>\n",
       "      <td>0</td>\n",
       "      <td>0</td>\n",
       "      <td>0</td>\n",
       "      <td>0</td>\n",
       "      <td>0</td>\n",
       "      <td>0</td>\n",
       "    </tr>\n",
       "    <tr>\n",
       "      <td>3</td>\n",
       "      <td>4</td>\n",
       "      <td>az</td>\n",
       "      <td>l</td>\n",
       "      <td>n</td>\n",
       "      <td>f</td>\n",
       "      <td>d</td>\n",
       "      <td>z</td>\n",
       "      <td>l</td>\n",
       "      <td>n</td>\n",
       "      <td>0</td>\n",
       "      <td>...</td>\n",
       "      <td>0</td>\n",
       "      <td>0</td>\n",
       "      <td>0</td>\n",
       "      <td>1</td>\n",
       "      <td>0</td>\n",
       "      <td>0</td>\n",
       "      <td>0</td>\n",
       "      <td>0</td>\n",
       "      <td>0</td>\n",
       "      <td>0</td>\n",
       "    </tr>\n",
       "    <tr>\n",
       "      <td>4</td>\n",
       "      <td>5</td>\n",
       "      <td>w</td>\n",
       "      <td>s</td>\n",
       "      <td>as</td>\n",
       "      <td>c</td>\n",
       "      <td>d</td>\n",
       "      <td>y</td>\n",
       "      <td>i</td>\n",
       "      <td>m</td>\n",
       "      <td>0</td>\n",
       "      <td>...</td>\n",
       "      <td>1</td>\n",
       "      <td>0</td>\n",
       "      <td>0</td>\n",
       "      <td>0</td>\n",
       "      <td>0</td>\n",
       "      <td>0</td>\n",
       "      <td>0</td>\n",
       "      <td>0</td>\n",
       "      <td>0</td>\n",
       "      <td>0</td>\n",
       "    </tr>\n",
       "  </tbody>\n",
       "</table>\n",
       "<p>5 rows × 377 columns</p>\n",
       "</div>"
      ],
      "text/plain": [
       "   ID  X0 X1  X2 X3 X4 X5 X6 X8  X10  ...  X375  X376  X377  X378  X379  X380  \\\n",
       "0   1  az  v   n  f  d  t  a  w    0  ...     0     0     0     1     0     0   \n",
       "1   2   t  b  ai  a  d  b  g  y    0  ...     0     0     1     0     0     0   \n",
       "2   3  az  v  as  f  d  a  j  j    0  ...     0     0     0     1     0     0   \n",
       "3   4  az  l   n  f  d  z  l  n    0  ...     0     0     0     1     0     0   \n",
       "4   5   w  s  as  c  d  y  i  m    0  ...     1     0     0     0     0     0   \n",
       "\n",
       "   X382  X383  X384  X385  \n",
       "0     0     0     0     0  \n",
       "1     0     0     0     0  \n",
       "2     0     0     0     0  \n",
       "3     0     0     0     0  \n",
       "4     0     0     0     0  \n",
       "\n",
       "[5 rows x 377 columns]"
      ]
     },
     "execution_count": 241,
     "metadata": {},
     "output_type": "execute_result"
    }
   ],
   "source": [
    "df_test1.head()"
   ]
  },
  {
   "cell_type": "markdown",
   "metadata": {},
   "source": [
    "#### Action-1: Check for columns for variance equal to zero"
   ]
  },
  {
   "cell_type": "code",
   "execution_count": 242,
   "metadata": {},
   "outputs": [
    {
     "data": {
      "text/plain": [
       "Index(['X11', 'X93', 'X107', 'X233', 'X235', 'X268', 'X289', 'X290', 'X293',\n",
       "       'X297', 'X330', 'X347'],\n",
       "      dtype='object')"
      ]
     },
     "execution_count": 242,
     "metadata": {},
     "output_type": "execute_result"
    }
   ],
   "source": [
    "df=pd.DataFrame([df_train1.var(axis=0)])\n",
    "df.columns[(df == 0).all()]"
   ]
  },
  {
   "cell_type": "code",
   "execution_count": 243,
   "metadata": {},
   "outputs": [
    {
     "data": {
      "text/plain": [
       "(4209, 366)"
      ]
     },
     "execution_count": 243,
     "metadata": {},
     "output_type": "execute_result"
    }
   ],
   "source": [
    "df_train1=df_train1.drop(['X11', 'X93', 'X107', 'X233', 'X235', 'X268', 'X289', 'X290', 'X293',\n",
    "       'X297', 'X330', 'X347'],axis=1)\n",
    "df_train1.shape"
   ]
  },
  {
   "cell_type": "code",
   "execution_count": 244,
   "metadata": {},
   "outputs": [
    {
     "data": {
      "text/plain": [
       "Index(['X257', 'X258', 'X295', 'X296', 'X369'], dtype='object')"
      ]
     },
     "execution_count": 244,
     "metadata": {},
     "output_type": "execute_result"
    }
   ],
   "source": [
    "df=pd.DataFrame([df_test1.var(axis=0)])\n",
    "df.columns[(df == 0).all()]"
   ]
  },
  {
   "cell_type": "code",
   "execution_count": 245,
   "metadata": {},
   "outputs": [
    {
     "data": {
      "text/plain": [
       "(4209, 372)"
      ]
     },
     "execution_count": 245,
     "metadata": {},
     "output_type": "execute_result"
    }
   ],
   "source": [
    "df_test1=df_test1.drop(['X257', 'X258', 'X295', 'X296', 'X369'],axis=1)\n",
    "df_test1.shape"
   ]
  },
  {
   "cell_type": "markdown",
   "metadata": {},
   "source": [
    "Variance of any column is not equal to zero now"
   ]
  },
  {
   "cell_type": "markdown",
   "metadata": {},
   "source": [
    "#### Action 2: Check for null and unique values for test and train sets."
   ]
  },
  {
   "cell_type": "code",
   "execution_count": 246,
   "metadata": {},
   "outputs": [
    {
     "data": {
      "text/plain": [
       "Index([], dtype='object')"
      ]
     },
     "execution_count": 246,
     "metadata": {},
     "output_type": "execute_result"
    }
   ],
   "source": [
    "df_train1.columns[df_train1.isnull().any()]"
   ]
  },
  {
   "cell_type": "code",
   "execution_count": 247,
   "metadata": {},
   "outputs": [
    {
     "data": {
      "text/plain": [
       "Index([], dtype='object')"
      ]
     },
     "execution_count": 247,
     "metadata": {},
     "output_type": "execute_result"
    }
   ],
   "source": [
    "df_test1.columns[df_test1.isnull().any()]"
   ]
  },
  {
   "cell_type": "code",
   "execution_count": 267,
   "metadata": {},
   "outputs": [
    {
     "data": {
      "text/plain": [
       "ID      0\n",
       "y       0\n",
       "X0      0\n",
       "X1      0\n",
       "X2      0\n",
       "       ..\n",
       "X380    0\n",
       "X382    0\n",
       "X383    0\n",
       "X384    0\n",
       "X385    0\n",
       "Length: 366, dtype: int64"
      ]
     },
     "execution_count": 267,
     "metadata": {},
     "output_type": "execute_result"
    }
   ],
   "source": [
    "df_train1.isna().sum()"
   ]
  },
  {
   "cell_type": "markdown",
   "metadata": {},
   "source": [
    "No null values present in the test and train data"
   ]
  },
  {
   "cell_type": "code",
   "execution_count": 248,
   "metadata": {},
   "outputs": [
    {
     "name": "stdout",
     "output_type": "stream",
     "text": [
      "Number of Categorical features:  Index(['X0', 'X1', 'X2', 'X3', 'X4', 'X5', 'X6', 'X8'], dtype='object')\n",
      "Number of Categorical features:  Index(['X0', 'X1', 'X2', 'X3', 'X4', 'X5', 'X6', 'X8'], dtype='object')\n"
     ]
    }
   ],
   "source": [
    "categorical_feats = df_train1.dtypes[df_train1.dtypes == \"object\"].index\n",
    "print(\"Number of Categorical features: \", (categorical_feats))\n",
    "categorical_feats2=df_test1.dtypes[df_test1.dtypes == \"object\"].index\n",
    "print(\"Number of Categorical features: \", (categorical_feats2))"
   ]
  },
  {
   "cell_type": "code",
   "execution_count": 249,
   "metadata": {},
   "outputs": [
    {
     "name": "stdout",
     "output_type": "stream",
     "text": [
      "unique values of train dataset:\n",
      " ['a' 'aa' 'ab' 'ac' 'ad' 'ae' 'af' 'ag' 'ah' 'ai' 'aj' 'ak' 'al' 'am' 'an'\n",
      " 'ao' 'ap' 'aq' 'ar' 'as' 'at' 'au' 'av' 'aw' 'ax' 'ay' 'az' 'b' 'ba' 'bc'\n",
      " 'c' 'd' 'e' 'f' 'g' 'h' 'i' 'j' 'k' 'l' 'm' 'n' 'o' 'p' 'q' 'r' 's' 't'\n",
      " 'u' 'v' 'w' 'x' 'y' 'z']\n",
      "---------------------------------------------------------------------------------------------------------------------\n",
      "unique values of test dataset:\n",
      " ['a' 'aa' 'ab' 'ac' 'ad' 'ae' 'af' 'ag' 'ah' 'ai' 'aj' 'ak' 'al' 'am' 'an'\n",
      " 'ao' 'ap' 'aq' 'as' 'at' 'au' 'av' 'aw' 'ax' 'ay' 'az' 'b' 'ba' 'bb' 'bc'\n",
      " 'c' 'd' 'e' 'f' 'g' 'h' 'i' 'j' 'k' 'l' 'm' 'n' 'o' 'p' 'q' 'r' 's' 't'\n",
      " 'u' 'v' 'w' 'x' 'y' 'z']\n"
     ]
    }
   ],
   "source": [
    "c=df_train1.iloc[:,2:10]\n",
    "u1=np.unique(c[['X0','X1','X2','X3','X4','X5','X6','X8']].values)\n",
    "print(\"unique values of train dataset:\\n\",u1)\n",
    "print(\"---------------------------------------\"*3)\n",
    "d=df_test1.iloc[:,0:9]\n",
    "u2=np.unique(d[['X0','X1','X2','X3','X4','X5','X6','X8']].values)\n",
    "print(\"unique values of test dataset:\\n\",u2)\n"
   ]
  },
  {
   "cell_type": "markdown",
   "metadata": {},
   "source": [
    "#### Target Variable:Distribution"
   ]
  },
  {
   "cell_type": "code",
   "execution_count": 392,
   "metadata": {
    "scrolled": true
   },
   "outputs": [
    {
     "data": {
      "text/plain": [
       "[<matplotlib.lines.Line2D at 0xccb9c0bac8>]"
      ]
     },
     "execution_count": 392,
     "metadata": {},
     "output_type": "execute_result"
    },
    {
     "data": {
      "image/png": "[encoded data removed]",
      "text/plain": [
       "<Figure size 432x288 with 1 Axes>"
      ]
     },
     "metadata": {
      "needs_background": "light"
     },
     "output_type": "display_data"
    }
   ],
   "source": [
    "plt.plot(df_train1['y'],color='grey')"
   ]
  },
  {
   "cell_type": "code",
   "execution_count": 396,
   "metadata": {},
   "outputs": [
    {
     "name": "stdout",
     "output_type": "stream",
     "text": [
      "Skewness: 1.206526\n",
      "Kurtosis: 7.910713\n"
     ]
    },
    {
     "data": {
      "image/png": "[encoded data removed]",
      "text/plain": [
       "<Figure size 432x288 with 1 Axes>"
      ]
     },
     "metadata": {
      "needs_background": "light"
     },
     "output_type": "display_data"
    }
   ],
   "source": [
    "sns.distplot(df_train1['y'],color='darkgreen')\n",
    "#skewness and kurtosis\n",
    "print(\"Skewness: %f\" % df_train1['y'].skew())\n",
    "print(\"Kurtosis: %f\" % df_train1['y'].kurt())"
   ]
  },
  {
   "cell_type": "markdown",
   "metadata": {},
   "source": [
    "As we know the data is continous in nature we will not perform any kind of transformation techniques. "
   ]
  },
  {
   "cell_type": "code",
   "execution_count": 397,
   "metadata": {},
   "outputs": [
    {
     "name": "stdout",
     "output_type": "stream",
     "text": [
      "Number of Numerical features:  358\n"
     ]
    }
   ],
   "source": [
    "numerical_feats = df_train1.dtypes[df_train1.dtypes != \"object\"].index\n",
    "print(\"Number of Numerical features: \", len(numerical_feats))"
   ]
  },
  {
   "cell_type": "markdown",
   "metadata": {},
   "source": [
    "### Action-3: Apply LabelEncoder()"
   ]
  },
  {
   "cell_type": "code",
   "execution_count": 398,
   "metadata": {},
   "outputs": [],
   "source": [
    "df_train=(df_train1.drop([\"y\"],axis=1))\n",
    "for f in [\"X0\", \"X1\", \"X2\", \"X3\", \"X4\", \"X5\", \"X6\", \"X8\"]:\n",
    "        lbl = preprocessing.LabelEncoder()\n",
    "        lbl.fit(list(df_train[f].values)) \n",
    "        df_train[f] = lbl.transform(list(df_train[f].values))\n",
    "        \n",
    "        df_test=df_test1.copy()\n",
    "        for f in [\"X0\", \"X1\", \"X2\", \"X3\", \"X4\", \"X5\", \"X6\", \"X8\"]:\n",
    "            lbl.fit(list(df_test[f].values))\n",
    "            df_test[f] = lbl.transform(list(df_test[f].values))\n",
    "        "
   ]
  },
  {
   "cell_type": "code",
   "execution_count": 399,
   "metadata": {},
   "outputs": [],
   "source": [
    "scaler= StandardScaler()"
   ]
  },
  {
   "cell_type": "code",
   "execution_count": 400,
   "metadata": {},
   "outputs": [],
   "source": [
    "scaled1 = scaler.fit_transform(df_test)\n",
    "scaled2 = scaler.fit_transform(df_train)"
   ]
  },
  {
   "cell_type": "markdown",
   "metadata": {},
   "source": [
    "##### Plotting the scaled Data "
   ]
  },
  {
   "cell_type": "code",
   "execution_count": 403,
   "metadata": {},
   "outputs": [
    {
     "data": {
      "image/png": "[encoded data removed]",
      "text/plain": [
       "<Figure size 432x288 with 1 Axes>"
      ]
     },
     "metadata": {
      "needs_background": "light"
     },
     "output_type": "display_data"
    },
    {
     "data": {
      "image/png": "[encoded data removed]",
      "text/plain": [
       "<Figure size 432x288 with 1 Axes>"
      ]
     },
     "metadata": {
      "needs_background": "light"
     },
     "output_type": "display_data"
    }
   ],
   "source": [
    "\n",
    "plt.scatter(scaled1[:,0], scaled1[:,1],color='blue')\n",
    "plt.axis('equal')\n",
    "plt.xlabel('train1 (scaled)')\n",
    "plt.ylabel('train2 (scaled)')\n",
    "plt.show(plt.scatter(scaled1[:,0], scaled1[:,1]))\n",
    "\n",
    "plt.scatter(scaled2[:,0], scaled2[:,1])\n",
    "plt.axis('equal')\n",
    "plt.xlabel('test1 (scaled)')\n",
    "plt.ylabel('test2 (scaled)')\n",
    "plt.show(plt.scatter(scaled2[:,0], scaled2[:,1]))\n"
   ]
  },
  {
   "cell_type": "markdown",
   "metadata": {},
   "source": [
    "### Action 4: Performing Dimension Reduction by using PCA "
   ]
  },
  {
   "cell_type": "code",
   "execution_count": 404,
   "metadata": {},
   "outputs": [
    {
     "data": {
      "text/plain": [
       "PCA(copy=True, iterated_power='auto', n_components=None, random_state=None,\n",
       "    svd_solver='auto', tol=0.0, whiten=False)"
      ]
     },
     "execution_count": 404,
     "metadata": {},
     "output_type": "execute_result"
    }
   ],
   "source": [
    "pca1=PCA()\n",
    "pca1.fit(scaled1)"
   ]
  },
  {
   "cell_type": "code",
   "execution_count": 405,
   "metadata": {},
   "outputs": [
    {
     "data": {
      "text/plain": [
       "array([[-2.71445239e-03, -5.18968198e-02,  3.53664002e-02, ...,\n",
       "         2.49170668e-03, -8.78130465e-04, -3.77787565e-03],\n",
       "       [ 1.18362163e-03, -4.69932627e-02,  8.63110998e-02, ...,\n",
       "        -3.41833591e-03, -1.65505661e-03,  4.04809811e-03],\n",
       "       [ 1.36195549e-03, -7.66822019e-02,  1.05893566e-01, ...,\n",
       "        -4.35026601e-03,  1.04231135e-03,  1.41771427e-02],\n",
       "       ...,\n",
       "       [-0.00000000e+00,  1.04083409e-17, -5.93831585e-17, ...,\n",
       "        -5.85469173e-18, -1.38777878e-17,  1.22800228e-01],\n",
       "       [ 0.00000000e+00,  3.43115886e-17, -1.55390369e-16, ...,\n",
       "        -6.93889390e-18,  4.16333634e-17,  1.93331899e-01],\n",
       "       [-0.00000000e+00,  7.24351405e-17, -7.67201869e-18, ...,\n",
       "        -2.16162808e-18,  6.85215773e-17,  1.55574566e-01]])"
      ]
     },
     "execution_count": 405,
     "metadata": {},
     "output_type": "execute_result"
    }
   ],
   "source": [
    "pca1.components_"
   ]
  },
  {
   "cell_type": "code",
   "execution_count": 406,
   "metadata": {},
   "outputs": [
    {
     "data": {
      "text/plain": [
       "PCA(copy=True, iterated_power='auto', n_components=None, random_state=None,\n",
       "    svd_solver='auto', tol=0.0, whiten=False)"
      ]
     },
     "execution_count": 406,
     "metadata": {},
     "output_type": "execute_result"
    }
   ],
   "source": [
    "pca2=PCA()\n",
    "pca2.fit(scaled2)"
   ]
  },
  {
   "cell_type": "code",
   "execution_count": 407,
   "metadata": {},
   "outputs": [
    {
     "data": {
      "text/plain": [
       "array([[ 3.01682497e-03, -5.35872622e-02,  3.02902294e-02, ...,\n",
       "         2.54678049e-03, -1.03787172e-03, -3.82876840e-03],\n",
       "       [ 7.94018529e-04, -4.40296627e-02,  7.64586666e-02, ...,\n",
       "        -6.26812800e-03, -1.09320741e-04,  2.65841963e-03],\n",
       "       [ 4.32218101e-03, -7.54973017e-02,  1.10415384e-01, ...,\n",
       "        -6.28577538e-03,  3.30526194e-03,  1.49548425e-02],\n",
       "       ...,\n",
       "       [ 0.00000000e+00,  7.18905794e-17, -8.68959114e-17, ...,\n",
       "        -4.85722573e-17,  9.02056208e-17,  1.29628206e-01],\n",
       "       [ 0.00000000e+00,  2.24776063e-16, -9.81469892e-17, ...,\n",
       "        -3.81639165e-17, -3.12250226e-17, -2.86598363e-02],\n",
       "       [ 0.00000000e+00,  1.75497725e-16, -1.42242052e-16, ...,\n",
       "         3.98986399e-17, -3.38271078e-17,  1.93417275e-02]])"
      ]
     },
     "execution_count": 407,
     "metadata": {},
     "output_type": "execute_result"
    }
   ],
   "source": [
    "pca2.components_"
   ]
  },
  {
   "cell_type": "markdown",
   "metadata": {},
   "source": [
    "##### Plotting the scaled data after Dimension Reduction"
   ]
  },
  {
   "cell_type": "code",
   "execution_count": 422,
   "metadata": {},
   "outputs": [
    {
     "data": {
      "image/png": "[encoded data removed]",
      "text/plain": [
       "<Figure size 432x288 with 1 Axes>"
      ]
     },
     "metadata": {
      "needs_background": "light"
     },
     "output_type": "display_data"
    },
    {
     "data": {
      "image/png": "[encoded data removed]",
      "text/plain": [
       "<Figure size 432x288 with 1 Axes>"
      ]
     },
     "metadata": {
      "needs_background": "light"
     },
     "output_type": "display_data"
    }
   ],
   "source": [
    "plt.scatter(scaled1[:,0], scaled1[:,1], alpha=0.3,color='grey')\n",
    "plt.plot([0, 2*pca1.components_[0,0]], [0, 2*pca1.components_[0,1]], 'k')\n",
    "plt.plot([0, pca1.components_[1,0]], [0, pca1.components_[1,1]], 'r')\n",
    "plt.axis('equal',color='red')\n",
    "plt.show()\n",
    "\n",
    "plt.scatter(scaled2[:,0], scaled2[:,1], alpha=0.3,color='skyblue')\n",
    "plt.plot([0, 2*pca2.components_[0,0]], [0, 2*pca2.components_[0,1]], 'k')\n",
    "plt.plot([0, pca2.components_[1,0]], [0, pca2.components_[1,1]], 'r')\n",
    "plt.axis('equal',color='red')\n",
    "plt.show()\n"
   ]
  },
  {
   "cell_type": "code",
   "execution_count": 423,
   "metadata": {},
   "outputs": [
    {
     "data": {
      "text/plain": [
       "[<matplotlib.lines.Line2D at 0xccac170f08>]"
      ]
     },
     "execution_count": 423,
     "metadata": {},
     "output_type": "execute_result"
    },
    {
     "data": {
      "image/png": "[encoded data removed]",
      "text/plain": [
       "<Figure size 432x288 with 1 Axes>"
      ]
     },
     "metadata": {
      "needs_background": "light"
     },
     "output_type": "display_data"
    }
   ],
   "source": [
    "# Cumulative explained variance\n",
    "cumulative_explained_variance_train = np.cumsum(pca1.explained_variance_ratio_)\n",
    "cumulative_explained_variance_test = np.cumsum(pca2.explained_variance_ratio_)\n",
    "\n",
    "# Plot cumulative explained variance\n",
    "plt.plot(range(len(cumulative_explained_variance_train)), cumulative_explained_variance_train)\n",
    "plt.plot(range(len(cumulative_explained_variance_test)), cumulative_explained_variance_test)"
   ]
  },
  {
   "cell_type": "markdown",
   "metadata": {},
   "source": [
    "Both depicts the same plot. To target 80% accuracy, lets have 100 variables for both datasets"
   ]
  },
  {
   "cell_type": "code",
   "execution_count": 424,
   "metadata": {},
   "outputs": [
    {
     "data": {
      "text/plain": [
       "0.8553671061496884"
      ]
     },
     "execution_count": 424,
     "metadata": {},
     "output_type": "execute_result"
    }
   ],
   "source": [
    "cumulative_explained_variance_train[100]\n",
    "cumulative_explained_variance_test[100]"
   ]
  },
  {
   "cell_type": "code",
   "execution_count": 425,
   "metadata": {},
   "outputs": [
    {
     "name": "stdout",
     "output_type": "stream",
     "text": [
      "(4209, 100)\n",
      "(4209, 100)\n"
     ]
    }
   ],
   "source": [
    "pca1=PCA(n_components=100)\n",
    "PC_items_train = pca1.fit_transform(scaled1)\n",
    "print(PC_items_train.shape)\n",
    "\n",
    "pca2=PCA(n_components=100)\n",
    "PC_items_test = pca2.fit_transform(scaled2)\n",
    "print(PC_items_test.shape)\n"
   ]
  },
  {
   "cell_type": "markdown",
   "metadata": {},
   "source": [
    "###### Put PC_items into train & test dataframe"
   ]
  },
  {
   "cell_type": "code",
   "execution_count": 427,
   "metadata": {},
   "outputs": [
    {
     "data": {
      "text/html": [
       "<div>\n",
       "<style scoped>\n",
       "    .dataframe tbody tr th:only-of-type {\n",
       "        vertical-align: middle;\n",
       "    }\n",
       "\n",
       "    .dataframe tbody tr th {\n",
       "        vertical-align: top;\n",
       "    }\n",
       "\n",
       "    .dataframe thead th {\n",
       "        text-align: right;\n",
       "    }\n",
       "</style>\n",
       "<table border=\"1\" class=\"dataframe\">\n",
       "  <thead>\n",
       "    <tr style=\"text-align: right;\">\n",
       "      <th></th>\n",
       "      <th>PC1</th>\n",
       "      <th>PC2</th>\n",
       "      <th>PC3</th>\n",
       "      <th>PC4</th>\n",
       "      <th>PC5</th>\n",
       "      <th>PC6</th>\n",
       "      <th>PC7</th>\n",
       "      <th>PC8</th>\n",
       "      <th>PC9</th>\n",
       "      <th>PC10</th>\n",
       "      <th>...</th>\n",
       "      <th>PC91</th>\n",
       "      <th>PC92</th>\n",
       "      <th>PC93</th>\n",
       "      <th>PC94</th>\n",
       "      <th>PC95</th>\n",
       "      <th>PC96</th>\n",
       "      <th>PC97</th>\n",
       "      <th>PC98</th>\n",
       "      <th>PC99</th>\n",
       "      <th>PC100</th>\n",
       "    </tr>\n",
       "  </thead>\n",
       "  <tbody>\n",
       "    <tr>\n",
       "      <td>0</td>\n",
       "      <td>8.105354</td>\n",
       "      <td>20.962261</td>\n",
       "      <td>-8.863073</td>\n",
       "      <td>1.459892</td>\n",
       "      <td>1.948954</td>\n",
       "      <td>-0.668192</td>\n",
       "      <td>-1.414740</td>\n",
       "      <td>-0.231226</td>\n",
       "      <td>1.487539</td>\n",
       "      <td>-2.227357</td>\n",
       "      <td>...</td>\n",
       "      <td>-0.965693</td>\n",
       "      <td>0.259094</td>\n",
       "      <td>0.278553</td>\n",
       "      <td>-0.366965</td>\n",
       "      <td>-0.433187</td>\n",
       "      <td>0.808736</td>\n",
       "      <td>-0.566551</td>\n",
       "      <td>-0.335443</td>\n",
       "      <td>0.706252</td>\n",
       "      <td>-1.004398</td>\n",
       "    </tr>\n",
       "    <tr>\n",
       "      <td>1</td>\n",
       "      <td>1.078995</td>\n",
       "      <td>-4.728954</td>\n",
       "      <td>-10.079745</td>\n",
       "      <td>-1.898268</td>\n",
       "      <td>1.052619</td>\n",
       "      <td>6.580577</td>\n",
       "      <td>0.880176</td>\n",
       "      <td>6.001239</td>\n",
       "      <td>1.663453</td>\n",
       "      <td>2.934372</td>\n",
       "      <td>...</td>\n",
       "      <td>-0.351149</td>\n",
       "      <td>0.001230</td>\n",
       "      <td>0.133205</td>\n",
       "      <td>0.767016</td>\n",
       "      <td>-0.249519</td>\n",
       "      <td>-0.053542</td>\n",
       "      <td>-0.009282</td>\n",
       "      <td>-0.282432</td>\n",
       "      <td>0.626128</td>\n",
       "      <td>-0.024322</td>\n",
       "    </tr>\n",
       "    <tr>\n",
       "      <td>2</td>\n",
       "      <td>5.838110</td>\n",
       "      <td>18.636838</td>\n",
       "      <td>-6.450771</td>\n",
       "      <td>-1.307239</td>\n",
       "      <td>2.081227</td>\n",
       "      <td>-0.418742</td>\n",
       "      <td>-0.634459</td>\n",
       "      <td>4.946503</td>\n",
       "      <td>0.265582</td>\n",
       "      <td>1.500096</td>\n",
       "      <td>...</td>\n",
       "      <td>0.756953</td>\n",
       "      <td>0.139206</td>\n",
       "      <td>0.158486</td>\n",
       "      <td>0.117079</td>\n",
       "      <td>-0.220748</td>\n",
       "      <td>-0.248898</td>\n",
       "      <td>-0.016616</td>\n",
       "      <td>-0.222814</td>\n",
       "      <td>0.100625</td>\n",
       "      <td>1.303113</td>\n",
       "    </tr>\n",
       "    <tr>\n",
       "      <td>3</td>\n",
       "      <td>6.734101</td>\n",
       "      <td>21.255474</td>\n",
       "      <td>-8.792601</td>\n",
       "      <td>2.157302</td>\n",
       "      <td>2.024582</td>\n",
       "      <td>-1.771757</td>\n",
       "      <td>-0.893341</td>\n",
       "      <td>-1.466507</td>\n",
       "      <td>1.021403</td>\n",
       "      <td>-3.000962</td>\n",
       "      <td>...</td>\n",
       "      <td>14.747306</td>\n",
       "      <td>-7.996579</td>\n",
       "      <td>4.228754</td>\n",
       "      <td>2.012203</td>\n",
       "      <td>-0.275391</td>\n",
       "      <td>8.913682</td>\n",
       "      <td>4.241361</td>\n",
       "      <td>2.536229</td>\n",
       "      <td>-4.702109</td>\n",
       "      <td>4.363831</td>\n",
       "    </tr>\n",
       "    <tr>\n",
       "      <td>4</td>\n",
       "      <td>-1.787163</td>\n",
       "      <td>1.094261</td>\n",
       "      <td>5.744360</td>\n",
       "      <td>-2.985467</td>\n",
       "      <td>-1.445461</td>\n",
       "      <td>-0.083643</td>\n",
       "      <td>0.668792</td>\n",
       "      <td>2.239652</td>\n",
       "      <td>0.556260</td>\n",
       "      <td>0.997864</td>\n",
       "      <td>...</td>\n",
       "      <td>0.764217</td>\n",
       "      <td>-0.525792</td>\n",
       "      <td>-0.356243</td>\n",
       "      <td>0.898813</td>\n",
       "      <td>0.481337</td>\n",
       "      <td>0.819200</td>\n",
       "      <td>-0.160031</td>\n",
       "      <td>0.781915</td>\n",
       "      <td>-0.114605</td>\n",
       "      <td>-1.234899</td>\n",
       "    </tr>\n",
       "  </tbody>\n",
       "</table>\n",
       "<p>5 rows × 100 columns</p>\n",
       "</div>"
      ],
      "text/plain": [
       "        PC1        PC2        PC3       PC4       PC5       PC6       PC7  \\\n",
       "0  8.105354  20.962261  -8.863073  1.459892  1.948954 -0.668192 -1.414740   \n",
       "1  1.078995  -4.728954 -10.079745 -1.898268  1.052619  6.580577  0.880176   \n",
       "2  5.838110  18.636838  -6.450771 -1.307239  2.081227 -0.418742 -0.634459   \n",
       "3  6.734101  21.255474  -8.792601  2.157302  2.024582 -1.771757 -0.893341   \n",
       "4 -1.787163   1.094261   5.744360 -2.985467 -1.445461 -0.083643  0.668792   \n",
       "\n",
       "        PC8       PC9      PC10  ...       PC91      PC92      PC93      PC94  \\\n",
       "0 -0.231226  1.487539 -2.227357  ...  -0.965693  0.259094  0.278553 -0.366965   \n",
       "1  6.001239  1.663453  2.934372  ...  -0.351149  0.001230  0.133205  0.767016   \n",
       "2  4.946503  0.265582  1.500096  ...   0.756953  0.139206  0.158486  0.117079   \n",
       "3 -1.466507  1.021403 -3.000962  ...  14.747306 -7.996579  4.228754  2.012203   \n",
       "4  2.239652  0.556260  0.997864  ...   0.764217 -0.525792 -0.356243  0.898813   \n",
       "\n",
       "       PC95      PC96      PC97      PC98      PC99     PC100  \n",
       "0 -0.433187  0.808736 -0.566551 -0.335443  0.706252 -1.004398  \n",
       "1 -0.249519 -0.053542 -0.009282 -0.282432  0.626128 -0.024322  \n",
       "2 -0.220748 -0.248898 -0.016616 -0.222814  0.100625  1.303113  \n",
       "3 -0.275391  8.913682  4.241361  2.536229 -4.702109  4.363831  \n",
       "4  0.481337  0.819200 -0.160031  0.781915 -0.114605 -1.234899  \n",
       "\n",
       "[5 rows x 100 columns]"
      ]
     },
     "execution_count": 427,
     "metadata": {},
     "output_type": "execute_result"
    }
   ],
   "source": [
    "items_pca_train = pd.DataFrame(PC_items_train)\n",
    "items_pca_train.columns = ['PC{}'.format(i + 1) for i in range(PC_items_train.shape[1])]\n",
    "items_pca_train.index = df_train.index\n",
    "items_pca_train.head()"
   ]
  },
  {
   "cell_type": "code",
   "execution_count": 428,
   "metadata": {},
   "outputs": [
    {
     "data": {
      "text/html": [
       "<div>\n",
       "<style scoped>\n",
       "    .dataframe tbody tr th:only-of-type {\n",
       "        vertical-align: middle;\n",
       "    }\n",
       "\n",
       "    .dataframe tbody tr th {\n",
       "        vertical-align: top;\n",
       "    }\n",
       "\n",
       "    .dataframe thead th {\n",
       "        text-align: right;\n",
       "    }\n",
       "</style>\n",
       "<table border=\"1\" class=\"dataframe\">\n",
       "  <thead>\n",
       "    <tr style=\"text-align: right;\">\n",
       "      <th></th>\n",
       "      <th>PC1</th>\n",
       "      <th>PC2</th>\n",
       "      <th>PC3</th>\n",
       "      <th>PC4</th>\n",
       "      <th>PC5</th>\n",
       "      <th>PC6</th>\n",
       "      <th>PC7</th>\n",
       "      <th>PC8</th>\n",
       "      <th>PC9</th>\n",
       "      <th>PC10</th>\n",
       "      <th>...</th>\n",
       "      <th>PC91</th>\n",
       "      <th>PC92</th>\n",
       "      <th>PC93</th>\n",
       "      <th>PC94</th>\n",
       "      <th>PC95</th>\n",
       "      <th>PC96</th>\n",
       "      <th>PC97</th>\n",
       "      <th>PC98</th>\n",
       "      <th>PC99</th>\n",
       "      <th>PC100</th>\n",
       "    </tr>\n",
       "  </thead>\n",
       "  <tbody>\n",
       "    <tr>\n",
       "      <td>0</td>\n",
       "      <td>12.247943</td>\n",
       "      <td>-2.946169</td>\n",
       "      <td>-0.968899</td>\n",
       "      <td>2.013799</td>\n",
       "      <td>-1.536962</td>\n",
       "      <td>-3.580110</td>\n",
       "      <td>9.039394</td>\n",
       "      <td>-3.627298</td>\n",
       "      <td>-16.145176</td>\n",
       "      <td>8.522943</td>\n",
       "      <td>...</td>\n",
       "      <td>-0.601647</td>\n",
       "      <td>-0.621570</td>\n",
       "      <td>-0.509023</td>\n",
       "      <td>0.663896</td>\n",
       "      <td>1.062090</td>\n",
       "      <td>0.030325</td>\n",
       "      <td>0.076562</td>\n",
       "      <td>0.760662</td>\n",
       "      <td>-0.072253</td>\n",
       "      <td>-0.024798</td>\n",
       "    </tr>\n",
       "    <tr>\n",
       "      <td>1</td>\n",
       "      <td>-0.107612</td>\n",
       "      <td>0.364736</td>\n",
       "      <td>0.989965</td>\n",
       "      <td>1.157338</td>\n",
       "      <td>-2.591086</td>\n",
       "      <td>-0.029929</td>\n",
       "      <td>1.010099</td>\n",
       "      <td>-0.590316</td>\n",
       "      <td>-0.504217</td>\n",
       "      <td>0.163684</td>\n",
       "      <td>...</td>\n",
       "      <td>0.484631</td>\n",
       "      <td>-0.109525</td>\n",
       "      <td>-2.113404</td>\n",
       "      <td>-0.707451</td>\n",
       "      <td>1.208006</td>\n",
       "      <td>1.025653</td>\n",
       "      <td>2.258236</td>\n",
       "      <td>0.378792</td>\n",
       "      <td>1.431961</td>\n",
       "      <td>-0.820707</td>\n",
       "    </tr>\n",
       "    <tr>\n",
       "      <td>2</td>\n",
       "      <td>10.272906</td>\n",
       "      <td>21.103246</td>\n",
       "      <td>-5.022209</td>\n",
       "      <td>-4.472226</td>\n",
       "      <td>0.883318</td>\n",
       "      <td>2.575157</td>\n",
       "      <td>1.156996</td>\n",
       "      <td>3.640229</td>\n",
       "      <td>-0.925955</td>\n",
       "      <td>1.320524</td>\n",
       "      <td>...</td>\n",
       "      <td>2.434694</td>\n",
       "      <td>-1.321326</td>\n",
       "      <td>-2.798465</td>\n",
       "      <td>-1.328186</td>\n",
       "      <td>-2.532527</td>\n",
       "      <td>0.316599</td>\n",
       "      <td>0.437172</td>\n",
       "      <td>-5.019454</td>\n",
       "      <td>1.947794</td>\n",
       "      <td>2.102514</td>\n",
       "    </tr>\n",
       "    <tr>\n",
       "      <td>3</td>\n",
       "      <td>7.356681</td>\n",
       "      <td>21.366687</td>\n",
       "      <td>-6.007823</td>\n",
       "      <td>0.231598</td>\n",
       "      <td>1.996342</td>\n",
       "      <td>0.701227</td>\n",
       "      <td>0.432175</td>\n",
       "      <td>-0.053664</td>\n",
       "      <td>0.237010</td>\n",
       "      <td>2.899748</td>\n",
       "      <td>...</td>\n",
       "      <td>1.922010</td>\n",
       "      <td>0.588965</td>\n",
       "      <td>0.987616</td>\n",
       "      <td>0.219785</td>\n",
       "      <td>0.647023</td>\n",
       "      <td>-0.434721</td>\n",
       "      <td>-0.286490</td>\n",
       "      <td>1.937300</td>\n",
       "      <td>0.464616</td>\n",
       "      <td>0.041656</td>\n",
       "    </tr>\n",
       "    <tr>\n",
       "      <td>4</td>\n",
       "      <td>6.570842</td>\n",
       "      <td>21.440449</td>\n",
       "      <td>-6.555669</td>\n",
       "      <td>0.933567</td>\n",
       "      <td>1.997609</td>\n",
       "      <td>-0.014715</td>\n",
       "      <td>-0.976836</td>\n",
       "      <td>-0.243927</td>\n",
       "      <td>0.928093</td>\n",
       "      <td>0.787362</td>\n",
       "      <td>...</td>\n",
       "      <td>2.302512</td>\n",
       "      <td>-0.050955</td>\n",
       "      <td>-0.479151</td>\n",
       "      <td>-0.453023</td>\n",
       "      <td>-1.075578</td>\n",
       "      <td>0.072451</td>\n",
       "      <td>-0.219529</td>\n",
       "      <td>-2.500098</td>\n",
       "      <td>2.836648</td>\n",
       "      <td>1.015709</td>\n",
       "    </tr>\n",
       "  </tbody>\n",
       "</table>\n",
       "<p>5 rows × 100 columns</p>\n",
       "</div>"
      ],
      "text/plain": [
       "         PC1        PC2       PC3       PC4       PC5       PC6       PC7  \\\n",
       "0  12.247943  -2.946169 -0.968899  2.013799 -1.536962 -3.580110  9.039394   \n",
       "1  -0.107612   0.364736  0.989965  1.157338 -2.591086 -0.029929  1.010099   \n",
       "2  10.272906  21.103246 -5.022209 -4.472226  0.883318  2.575157  1.156996   \n",
       "3   7.356681  21.366687 -6.007823  0.231598  1.996342  0.701227  0.432175   \n",
       "4   6.570842  21.440449 -6.555669  0.933567  1.997609 -0.014715 -0.976836   \n",
       "\n",
       "        PC8        PC9      PC10  ...      PC91      PC92      PC93      PC94  \\\n",
       "0 -3.627298 -16.145176  8.522943  ... -0.601647 -0.621570 -0.509023  0.663896   \n",
       "1 -0.590316  -0.504217  0.163684  ...  0.484631 -0.109525 -2.113404 -0.707451   \n",
       "2  3.640229  -0.925955  1.320524  ...  2.434694 -1.321326 -2.798465 -1.328186   \n",
       "3 -0.053664   0.237010  2.899748  ...  1.922010  0.588965  0.987616  0.219785   \n",
       "4 -0.243927   0.928093  0.787362  ...  2.302512 -0.050955 -0.479151 -0.453023   \n",
       "\n",
       "       PC95      PC96      PC97      PC98      PC99     PC100  \n",
       "0  1.062090  0.030325  0.076562  0.760662 -0.072253 -0.024798  \n",
       "1  1.208006  1.025653  2.258236  0.378792  1.431961 -0.820707  \n",
       "2 -2.532527  0.316599  0.437172 -5.019454  1.947794  2.102514  \n",
       "3  0.647023 -0.434721 -0.286490  1.937300  0.464616  0.041656  \n",
       "4 -1.075578  0.072451 -0.219529 -2.500098  2.836648  1.015709  \n",
       "\n",
       "[5 rows x 100 columns]"
      ]
     },
     "execution_count": 428,
     "metadata": {},
     "output_type": "execute_result"
    }
   ],
   "source": [
    "items_pca_test= pd.DataFrame(PC_items_test)\n",
    "items_pca_test.columns = ['PC{}'.format(i + 1) for i in range(PC_items_test.shape[1])]\n",
    "items_pca_test.index = df_test.index\n",
    "items_pca_test.head()"
   ]
  },
  {
   "cell_type": "code",
   "execution_count": 429,
   "metadata": {},
   "outputs": [
    {
     "name": "stdout",
     "output_type": "stream",
     "text": [
      "(4209, 100)\n",
      "(4209, 100)\n"
     ]
    }
   ],
   "source": [
    "print(items_pca_train.shape)\n",
    "print(items_pca_test.shape)"
   ]
  },
  {
   "cell_type": "markdown",
   "metadata": {},
   "source": [
    "###### Plotting transformed dataset"
   ]
  },
  {
   "cell_type": "code",
   "execution_count": 439,
   "metadata": {},
   "outputs": [
    {
     "data": {
      "image/png": "[encoded data removed]",
      "text/plain": [
       "<Figure size 432x288 with 1 Axes>"
      ]
     },
     "metadata": {
      "needs_background": "light"
     },
     "output_type": "display_data"
    }
   ],
   "source": [
    "plt.scatter(PC_items_train[:,0], PC_items_train[:,1], alpha=0.3, color='k')\n",
    "plt.scatter(PC_items_test[:,0], PC_items_test[:,1], alpha=0.3, color='orange')\n",
    "plt.plot([0, 2], [0, 0], 'k')\n",
    "plt.plot([0, 0], [0, 1], 'r')\n",
    "plt.show()"
   ]
  },
  {
   "cell_type": "code",
   "execution_count": 440,
   "metadata": {},
   "outputs": [
    {
     "data": {
      "text/plain": [
       "0.8417194463821848"
      ]
     },
     "execution_count": 440,
     "metadata": {},
     "output_type": "execute_result"
    }
   ],
   "source": [
    "pca1.explained_variance_ratio_.sum()"
   ]
  },
  {
   "cell_type": "code",
   "execution_count": 441,
   "metadata": {},
   "outputs": [
    {
     "data": {
      "text/plain": [
       "0.8502486806728594"
      ]
     },
     "execution_count": 441,
     "metadata": {},
     "output_type": "execute_result"
    }
   ],
   "source": [
    "pca2.explained_variance_ratio_.sum()"
   ]
  },
  {
   "cell_type": "code",
   "execution_count": 442,
   "metadata": {},
   "outputs": [],
   "source": [
    "Y = (df_train1['y'].values)\n",
    "X_train=items_pca_train.copy()\n",
    "X_test=items_pca_test.copy()\n",
    "y_test=Y.copy()"
   ]
  },
  {
   "cell_type": "markdown",
   "metadata": {},
   "source": [
    "### Action 4: Perform XGBoost Regression Model and predict the test data\n",
    "##### Before performing XGBoost lets perform lasso, Ridge and Elastic Net ans check the RMSE and R2 values "
   ]
  },
  {
   "cell_type": "code",
   "execution_count": 443,
   "metadata": {},
   "outputs": [
    {
     "name": "stdout",
     "output_type": "stream",
     "text": [
      "***RIDGE REGRESSION MODEL***\n",
      "\n",
      "RMSE Value for train dataset:  12.319223108715557\n",
      "RMSE Value for test dataset:  12.319223108715557\n",
      "R2Value/Coefficient of Determination:-0.07249730297576118\n"
     ]
    }
   ],
   "source": [
    "from sklearn.linear_model import Ridge\n",
    "ridgereg=Ridge(alpha=0.000999, max_iter=50000,normalize=True)\n",
    "ridgereg.fit(X_train,Y)\n",
    "y_pred=ridgereg.predict(X_train)\n",
    "print(\"***RIDGE REGRESSION MODEL***\\n\")\n",
    "print(\"RMSE Value for train dataset: \", (sqrt(mean_squared_error(Y,y_pred))))\n",
    "print(\"RMSE Value for test dataset: \", (sqrt(mean_squared_error(y_test,y_pred))))\n",
    "print('R2Value/Coefficient of Determination:{}'.format(ridgereg.score(X_test,y_test)))"
   ]
  },
  {
   "cell_type": "code",
   "execution_count": 444,
   "metadata": {
    "scrolled": true
   },
   "outputs": [
    {
     "name": "stdout",
     "output_type": "stream",
     "text": [
      "***LASSO REGRESSION MODEL***\n",
      "\n",
      "RMSE Value for train dataset:  12.334148280983978\n",
      "RMSE Value for test dataset:  12.334148280983978\n",
      "R2Value/Coefficient of Determination:-0.05203781450209367\n"
     ]
    }
   ],
   "source": [
    "from sklearn.linear_model import Lasso\n",
    "lassoreg=Lasso(alpha=0.000999, max_iter=50000,normalize=True)\n",
    "lassoreg.fit(X_train,Y)\n",
    "y_pred=lassoreg.predict(X_train)\n",
    "print(\"***LASSO REGRESSION MODEL***\\n\")\n",
    "print(\"RMSE Value for train dataset: \", (sqrt(mean_squared_error(Y,y_pred))))\n",
    "print(\"RMSE Value for test dataset: \", (sqrt(mean_squared_error(y_test,y_pred))))\n",
    "print('R2Value/Coefficient of Determination:{}'.format(lassoreg.score(X_test,y_test)))"
   ]
  },
  {
   "cell_type": "code",
   "execution_count": 445,
   "metadata": {},
   "outputs": [
    {
     "name": "stdout",
     "output_type": "stream",
     "text": [
      "***ELASTIC NET REGRESSION MODEL***\n",
      "\n",
      "RMSE Value for train dataset:  12.498268858407224\n",
      "RMSE Value for test dataset:  12.498268858407224\n",
      "R2Value/Coefficient of Determination:-0.009613566304350618\n"
     ]
    }
   ],
   "source": [
    "from sklearn.linear_model import ElasticNet\n",
    "ENreg=ElasticNet(alpha=0.000999, max_iter=50000,normalize=True)\n",
    "ENreg.fit(X_train,Y)\n",
    "y_pred=ENreg.predict(X_train)\n",
    "print(\"***ELASTIC NET REGRESSION MODEL***\\n\")\n",
    "print(\"RMSE Value for train dataset: \", (sqrt(mean_squared_error(Y,y_pred))))\n",
    "print(\"RMSE Value for test dataset: \", (sqrt(mean_squared_error(y_test,y_pred))))\n",
    "print('R2Value/Coefficient of Determination:{}'.format(ENreg.score(X_test,y_test)))\n"
   ]
  },
  {
   "cell_type": "markdown",
   "metadata": {},
   "source": [
    "### Performing XGBoost Regression Model"
   ]
  },
  {
   "cell_type": "code",
   "execution_count": 378,
   "metadata": {},
   "outputs": [
    {
     "name": "stdout",
     "output_type": "stream",
     "text": [
      "[19:58:18] WARNING: C:\\Users\\Administrator\\workspace\\xgboost-win64_release_1.1.0\\src\\learner.cc:480: \n",
      "Parameters: { silent } might not be used.\n",
      "\n",
      "  This may not be accurate due to some parameters are only used in language bindings but\n",
      "  passed down to XGBoost core.  Or some parameters are not used but slip through this\n",
      "  verification. Please open an issue if you find above cases.\n",
      "\n",
      "\n"
     ]
    },
    {
     "data": {
      "text/plain": [
       "XGBRegressor(base_score=0.5, booster='gbtree', colsample_bylevel=1,\n",
       "             colsample_bynode=1, colsample_bytree=0.2, gamma=0.0, gpu_id=-1,\n",
       "             importance_type='gain', interaction_constraints='',\n",
       "             learning_rate=0.05, max_delta_step=0, max_depth=6,\n",
       "             min_child_weight=1.5, missing=nan, monotone_constraints='()',\n",
       "             n_estimators=7200, n_jobs=0, num_parallel_tree=1,\n",
       "             objective='reg:squarederror', random_state=42, reg_alpha=0.9,\n",
       "             reg_lambda=0.6, scale_pos_weight=1, seed=42, silent=1,\n",
       "             subsample=0.2, tree_method='exact', validate_parameters=1,\n",
       "             verbosity=None)"
      ]
     },
     "execution_count": 378,
     "metadata": {},
     "output_type": "execute_result"
    }
   ],
   "source": [
    "import xgboost as xgb\n",
    "XBreg = xgb.XGBRegressor(colsample_bytree=0.2,\n",
    "                       gamma=0.0,\n",
    "                       learning_rate=0.05,\n",
    "                       max_depth=6,\n",
    "                       min_child_weight=1.5,\n",
    "                       n_estimators=7200,\n",
    "                       reg_alpha=0.9,\n",
    "                       reg_lambda=0.6,\n",
    "                       subsample=0.2,\n",
    "                       seed=42,\n",
    "                       silent=1)\n",
    "\n",
    "XBreg.fit(X_train, Y)"
   ]
  },
  {
   "cell_type": "code",
   "execution_count": 379,
   "metadata": {},
   "outputs": [
    {
     "name": "stdout",
     "output_type": "stream",
     "text": [
      "XGBoost score on training set:  0.27629523806940715\n"
     ]
    }
   ],
   "source": [
    "y_pred = XBreg.predict(X_train)\n",
    "print(\"XGBoost score on training set: \", (sqrt(mean_squared_error(Y,y_pred))))"
   ]
  },
  {
   "cell_type": "markdown",
   "metadata": {},
   "source": [
    "#### It looks like XGBoost model performed beeter than previous three models. Hence perform prediction on test data"
   ]
  },
  {
   "cell_type": "code",
   "execution_count": 380,
   "metadata": {},
   "outputs": [],
   "source": [
    "y_pred_xgb = XBreg.predict(X_test)\n",
    "XBreg_ex = np.exp(y_pred_xgb)"
   ]
  },
  {
   "cell_type": "code",
   "execution_count": 381,
   "metadata": {},
   "outputs": [],
   "source": [
    "pred1 = pd.DataFrame({ 'y':y_pred_xgb})"
   ]
  },
  {
   "cell_type": "code",
   "execution_count": 382,
   "metadata": {},
   "outputs": [
    {
     "data": {
      "text/html": [
       "<div>\n",
       "<style scoped>\n",
       "    .dataframe tbody tr th:only-of-type {\n",
       "        vertical-align: middle;\n",
       "    }\n",
       "\n",
       "    .dataframe tbody tr th {\n",
       "        vertical-align: top;\n",
       "    }\n",
       "\n",
       "    .dataframe thead th {\n",
       "        text-align: right;\n",
       "    }\n",
       "</style>\n",
       "<table border=\"1\" class=\"dataframe\">\n",
       "  <thead>\n",
       "    <tr style=\"text-align: right;\">\n",
       "      <th></th>\n",
       "      <th>y</th>\n",
       "    </tr>\n",
       "  </thead>\n",
       "  <tbody>\n",
       "    <tr>\n",
       "      <td>0</td>\n",
       "      <td>137.300400</td>\n",
       "    </tr>\n",
       "    <tr>\n",
       "      <td>1</td>\n",
       "      <td>113.421257</td>\n",
       "    </tr>\n",
       "    <tr>\n",
       "      <td>2</td>\n",
       "      <td>127.376320</td>\n",
       "    </tr>\n",
       "    <tr>\n",
       "      <td>3</td>\n",
       "      <td>150.732880</td>\n",
       "    </tr>\n",
       "    <tr>\n",
       "      <td>4</td>\n",
       "      <td>130.323929</td>\n",
       "    </tr>\n",
       "  </tbody>\n",
       "</table>\n",
       "</div>"
      ],
      "text/plain": [
       "            y\n",
       "0  137.300400\n",
       "1  113.421257\n",
       "2  127.376320\n",
       "3  150.732880\n",
       "4  130.323929"
      ]
     },
     "execution_count": 382,
     "metadata": {},
     "output_type": "execute_result"
    }
   ],
   "source": [
    "pred1.head()"
   ]
  },
  {
   "cell_type": "markdown",
   "metadata": {},
   "source": [
    "#### pred1 can be used as final predicted dataset of the target variable"
   ]
  }
 ],
 "metadata": {
  "kernelspec": {
   "display_name": "Python 3",
   "language": "python",
   "name": "python3"
  },
  "language_info": {
   "codemirror_mode": {
    "name": "ipython",
    "version": 3
   },
   "file_extension": ".py",
   "mimetype": "text/x-python",
   "name": "python",
   "nbconvert_exporter": "python",
   "pygments_lexer": "ipython3",
   "version": "3.7.4"
  }
 },
 "nbformat": 4,
 "nbformat_minor": 2
}
